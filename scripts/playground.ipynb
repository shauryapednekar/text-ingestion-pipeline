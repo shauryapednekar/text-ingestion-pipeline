{
 "cells": [
  {
   "cell_type": "code",
   "execution_count": 3,
   "metadata": {},
   "outputs": [],
   "source": [
    "flatten_leaves = lambda d: {k: v for sd in d.values() for k, v in (flatten_leaves(sd).items() if isinstance(sd, dict) else sd.items())}\n"
   ]
  },
  {
   "cell_type": "code",
   "execution_count": 5,
   "metadata": {},
   "outputs": [],
   "source": [
    "data = {\n",
    "    \"JSONLoader\": {\n",
    "        \"required\": {\n",
    "            \"jq_schema\": None,\n",
    "        },\n",
    "        \"optional\": {\n",
    "            \"content_key\": None,\n",
    "            \"is_content_key_jq_parsable\": False,\n",
    "            \"metadata_func\": None,\n",
    "            \"text_content\": True,\n",
    "            \"json_lines\": False,\n",
    "        }\n",
    "    }\n",
    "}\n",
    "kwargs = {**data['JSONLoader']['required'], **data['JSONLoader']['optional']}"
   ]
  },
  {
   "cell_type": "code",
   "execution_count": 6,
   "metadata": {},
   "outputs": [
    {
     "data": {
      "text/plain": [
       "{'jq_schema': None,\n",
       " 'content_key': None,\n",
       " 'is_content_key_jq_parsable': False,\n",
       " 'metadata_func': None,\n",
       " 'text_content': True,\n",
       " 'json_lines': False}"
      ]
     },
     "execution_count": 6,
     "metadata": {},
     "output_type": "execute_result"
    }
   ],
   "source": [
    "kwargs"
   ]
  },
  {
   "cell_type": "code",
   "execution_count": 1,
   "metadata": {},
   "outputs": [],
   "source": [
    "d = {\n",
    "    1: 12,\n",
    "    2: 23,\n",
    "    3: \"foo\"\n",
    "}"
   ]
  },
  {
   "cell_type": "code",
   "execution_count": 2,
   "metadata": {},
   "outputs": [
    {
     "name": "stdout",
     "output_type": "stream",
     "text": [
      "s: foo\n",
      "d: {1: 12, 2: 23}\n"
     ]
    }
   ],
   "source": [
    "s = d[3]\n",
    "\n",
    "del d[3]\n",
    "print(f\"s: {s}\")\n",
    "print(f\"d: {d}\")"
   ]
  },
  {
   "cell_type": "code",
   "execution_count": 1,
   "metadata": {},
   "outputs": [],
   "source": [
    "import chromadb"
   ]
  },
  {
   "cell_type": "code",
   "execution_count": 3,
   "metadata": {},
   "outputs": [],
   "source": [
    "chroma_client = chromadb.Client()"
   ]
  },
  {
   "cell_type": "code",
   "execution_count": 4,
   "metadata": {},
   "outputs": [],
   "source": [
    "collection = chroma_client.create_collection(name=\"my_collection\")"
   ]
  },
  {
   "cell_type": "code",
   "execution_count": 5,
   "metadata": {},
   "outputs": [
    {
     "name": "stderr",
     "output_type": "stream",
     "text": [
      "/Users/shauryapednekar/.cache/chroma/onnx_models/all-MiniLM-L6-v2/onnx.tar.gz: 100%|██████████| 79.3M/79.3M [00:17<00:00, 4.63MiB/s]\n"
     ]
    }
   ],
   "source": [
    "collection.add(\n",
    "    documents=[\n",
    "        \"This is a document about pineapple\",\n",
    "        \"This is a document about oranges\"\n",
    "    ],\n",
    "    ids=[\"id1\", \"id2\"]\n",
    ")\n"
   ]
  },
  {
   "cell_type": "code",
   "execution_count": 6,
   "metadata": {},
   "outputs": [
    {
     "name": "stdout",
     "output_type": "stream",
     "text": [
      "{'ids': [['id1', 'id2']], 'distances': [[1.0403728485107422, 1.2430635690689087]], 'metadatas': [[None, None]], 'embeddings': None, 'documents': [['This is a document about pineapple', 'This is a document about oranges']], 'uris': None, 'data': None}\n"
     ]
    }
   ],
   "source": [
    "results = collection.query(\n",
    "    query_texts=[\"This is a query document about hawaii\"], # Chroma will embed this for you\n",
    "    n_results=2 # how many results to return\n",
    ")\n",
    "print(results)\n"
   ]
  },
  {
   "cell_type": "code",
   "execution_count": 4,
   "metadata": {},
   "outputs": [],
   "source": [
    "from langchain_community.vectorstores import FAISS, Chroma\n",
    "from langchain_huggingface import HuggingFaceEmbeddings\n"
   ]
  },
  {
   "cell_type": "code",
   "execution_count": 13,
   "metadata": {},
   "outputs": [
    {
     "name": "stderr",
     "output_type": "stream",
     "text": [
      "/home/shaurya/foo/src/ingestion-pipeline/venv/lib/python3.10/site-packages/huggingface_hub/file_download.py:1132: FutureWarning: `resume_download` is deprecated and will be removed in version 1.0.0. Downloads always resume when possible. If you want to force a new download, use `force_download=True`.\n",
      "  warnings.warn(\n"
     ]
    }
   ],
   "source": [
    "embeddings = HuggingFaceEmbeddings(**{\n",
    "        \"model_name\": \"sentence-transformers/all-mpnet-base-v2\",\n",
    "        \"model_kwargs\": {\"device\": \"cuda\"},\n",
    "        \"encode_kwargs\": {\"normalize_embeddings\": False},\n",
    "    })\n",
    "new_db = FAISS.load_local(\"faiss_index\", embeddings,allow_dangerous_deserialization=True)"
   ]
  },
  {
   "cell_type": "code",
   "execution_count": 14,
   "metadata": {},
   "outputs": [],
   "source": [
    "docs = new_db.similarity_search(\"Relationship between trump and farmers?\")"
   ]
  },
  {
   "cell_type": "code",
   "execution_count": 15,
   "metadata": {},
   "outputs": [
    {
     "data": {
      "text/plain": [
       "[Document(page_content=\"LIESMAN: UNDERSTOOD --\\nMNUCHIN: AND WE ALSO ANNOUNCED YESTERDAY AS IT RELATES TO AGRICULTURE, WE'RE GOING TO PROTECT OUR FARMERS. THE PRESIDENT INSTRUCTED SECRETARY PERDUE TO WORK WITHTHE REST OF THE CABINET TO PROTECT OUR FARMERS FROM UNFAIR TARGETING.\\nLIESMAN: ONE OTHER QUESTION OF ABIDING CONCERN TO THE MARKET HOW POLICY IS FORMED IN THE ADMINISTRATION, CAN YOU TELL US -- DID YOU KNOW ABOUT THE PRESIDENTS THREAT OF $100 BILLION OF TARIFFS BEFORE HE ANNOUNCED IT?\", metadata={'language': 'english', 'url': 'http://www.cnbc.com/2018/04/06/cnbc-exclusive-cnbc-transcript-u-s-treasury-secretary-steven-mnuchin-on-cnbcs-power-lunch-today.html', 'published': '2018-04-06T23:25:00.000+03:00', 'title': 'CNBC Exclusive: CNBC Transcript: U.S. Treasury Secretary Steven Mnuchin on CNBC’s “Power Lunch” Today', 'source': '../unzipped/financial_dataset/2018_04_112b52537b67659ad3609a234388c50a/news_0013370.json'}),\n",
       " Document(page_content=\"DAILY INVOLVED IN THESE CONVERSATIONS WITH THE ECONOMIC TEAM AND ON THE ONE HAND HE'S ABSOLUTELY WILLING TO DEFEND OUR INTERESTS. SO LET ME BE CLEAR, THIS IS ABOUT FREE AND FAIR TRADE CHINAS BEEN ABLE TO DO TRADE FREELY IN OUR COUNTRY. OUR COMPANIES HAVE BEEN LIMITED. THERE HAS BEEN FORCED TECHNOLOGY AND FORCED JOINT VENTURES AND OUR OBJECTIVE THE GOOD NEWS IS PRESIDENT XI AND PRESIDENT TRUMP HAVE A VERY GOOD RELATIONSHIP. THEY SPEAK REGULARLY. THERE IS CLEAR UNDERSTANDING. WE HAVE MUTUAL\", metadata={'language': 'english', 'url': 'http://www.cnbc.com/2018/04/06/cnbc-exclusive-cnbc-transcript-u-s-treasury-secretary-steven-mnuchin-on-cnbcs-power-lunch-today.html', 'published': '2018-04-06T23:25:00.000+03:00', 'title': 'CNBC Exclusive: CNBC Transcript: U.S. Treasury Secretary Steven Mnuchin on CNBC’s “Power Lunch” Today', 'source': '../unzipped/financial_dataset/2018_04_112b52537b67659ad3609a234388c50a/news_0013370.json'}),\n",
       " Document(page_content='MNUCHIN: ABSOLUTELY NOT. OKAY. THE PRESIDENT IS FOCUSED ON AMAZON AND THE ECONOMIC ISSUES THAT ARE IMPACTING RETAILERS ALL AROUND THE COUNTRY. I THINK AS YOU KNOW –\\nEISEN: BUT HE IS GOING AFTER ONE SPECIFIC COMPANY. WHAT MESSAGE DOES THAT SEND TO AMERICAN COMPANIES AND AMERICAN INDUSTRIES THAT HE SAYS HE IS FIGHTING TO PROTECT?', metadata={'language': 'english', 'url': 'http://www.cnbc.com/2018/04/06/cnbc-exclusive-cnbc-transcript-u-s-treasury-secretary-steven-mnuchin-on-cnbcs-power-lunch-today.html', 'published': '2018-04-06T23:25:00.000+03:00', 'title': 'CNBC Exclusive: CNBC Transcript: U.S. Treasury Secretary Steven Mnuchin on CNBC’s “Power Lunch” Today', 'source': '../unzipped/financial_dataset/2018_04_112b52537b67659ad3609a234388c50a/news_0013370.json'}),\n",
       " Document(page_content=\"MNUCHIN: WELL, AGAIN, PRESIDENT TRUMP, I THINK PROBABLY HAS BEST RELATIONSHIP WITH PRESIDENT XI OF ANY PRESIDENT. I THINK THEY'RE IN CONSTANT DIALOGUE. I THINK THAT AT ALL LEVELS OF THE GOVERNMENT WE'VE HAD VERY GOOD DIALOGUE. I THINK WE'VE MADE A LOT OF PROGRESS OVER THE LAST YEAR. AND – BUT THE PRESIDENT IS DETERMINED. AND WE'VE BEEN VERY CLEAR FROM DAY ONE, THERE'IS NO SURPRISES HERE, THERE IS NO ISSUE IN TERMS OF WHAT WE'RE TRYING TO DO. WE'RE TRYING TO CREATE A LEVEL PLAYING FIELD. AND AS\", metadata={'language': 'english', 'url': 'http://www.cnbc.com/2018/04/06/cnbc-exclusive-cnbc-transcript-u-s-treasury-secretary-steven-mnuchin-on-cnbcs-power-lunch-today.html', 'published': '2018-04-06T23:25:00.000+03:00', 'title': 'CNBC Exclusive: CNBC Transcript: U.S. Treasury Secretary Steven Mnuchin on CNBC’s “Power Lunch” Today', 'source': '../unzipped/financial_dataset/2018_04_112b52537b67659ad3609a234388c50a/news_0013370.json'})]"
      ]
     },
     "execution_count": 15,
     "metadata": {},
     "output_type": "execute_result"
    }
   ],
   "source": [
    "docs"
   ]
  },
  {
   "cell_type": "code",
   "execution_count": 1,
   "metadata": {},
   "outputs": [],
   "source": [
    "from enhanced_document import EnhancedDocument"
   ]
  },
  {
   "cell_type": "code",
   "execution_count": 2,
   "metadata": {},
   "outputs": [],
   "source": [
    "# Example instantiation\n",
    "page_content = \"This is an example document content.\"\n",
    "metadata = {\n",
    "    \"author\": \"John Doe\",\n",
    "    \"title\": \"Example Document\",\n",
    "    \"date\": \"2024-06-19\"\n",
    "}\n",
    "\n",
    "enhanced_document = EnhancedDocument(page_content=page_content, metadata=metadata)\n"
   ]
  },
  {
   "cell_type": "code",
   "execution_count": 3,
   "metadata": {},
   "outputs": [
    {
     "name": "stdout",
     "output_type": "stream",
     "text": [
      "None\n"
     ]
    }
   ],
   "source": [
    "print(enhanced_document.content_hash)"
   ]
  },
  {
   "cell_type": "code",
   "execution_count": 1,
   "metadata": {},
   "outputs": [],
   "source": [
    "from __future__ import annotations\n",
    "\n",
    "import hashlib\n",
    "import json\n",
    "import logging\n",
    "import uuid\n",
    "from typing import Any, Dict, Optional\n",
    "\n",
    "from langchain_core.documents import Document\n",
    "from pydantic.v1 import root_validator\n",
    "\n",
    "# Magic UUID to use as a namespace for hashing.\n",
    "# Used to try and generate a unique UUID for each document\n",
    "# from hashing the document content and metadata.\n",
    "NAMESPACE_UUID = uuid.UUID(int=1984)\n",
    "\n",
    "\n",
    "def _hash_string_to_uuid(input_string: str) -> uuid.UUID:\n",
    "    \"\"\"Hashes a string and returns the corresponding UUID.\"\"\"\n",
    "    hash_value = hashlib.sha1(input_string.encode(\"utf-8\")).hexdigest()\n",
    "    return uuid.uuid5(NAMESPACE_UUID, hash_value)"
   ]
  },
  {
   "cell_type": "code",
   "execution_count": 2,
   "metadata": {},
   "outputs": [
    {
     "data": {
      "text/plain": [
       "UUID('c54c0512-bd37-5b5a-8c8d-969458fbc79b')"
      ]
     },
     "execution_count": 2,
     "metadata": {},
     "output_type": "execute_result"
    }
   ],
   "source": [
    "_hash_string_to_uuid('May 7, 2018 / 6:58 PM / Updated 19 minutes ago Trump to announce decision on Iran nuclear deal on Tuesday Reuters Staff 2 Min Read')"
   ]
  },
  {
   "cell_type": "code",
   "execution_count": 3,
   "metadata": {},
   "outputs": [
    {
     "data": {
      "text/plain": [
       "UUID('8e9c51cd-4fef-54bd-b092-74512b579909')"
      ]
     },
     "execution_count": 3,
     "metadata": {},
     "output_type": "execute_result"
    }
   ],
   "source": [
    "_hash_string_to_uuid('May 7, 2018 / 6:58 PM / Updated 19 minutes ago Trump to announce decision on Iran nuclear deal on Tuesday Reuters Staff 2 Min Read\\nWASHINGTON (Reuters) - U.S. President Donald Trump said he would announce a decision on the future of the Iran nuclear deal on Tuesday as European countries piled pressure on Washington to remain in the 2015 agreement. President Donald Trump speaks during a roundtable discussion on tax reform at the Cleveland Public Auditorium in Cleveland, Ohio, U.S., May 5, 2018. REUTERS/Aaron P. Bernstein\\nTrump has threatened to withdraw from the deal, which provided Iran with relief from economic sanctions in exchange for limiting its uranium enrichment capacity, unless European signatories to the accord fix what he has called its shortcomings.\\n“I will be announcing my decision on the Iran Deal tomorrow from the White House at 2:00pm,” Trump said in a Twitter post on Monday.\\nTrump has until May 12 to decide whether to reintroduce U.S. sanctions on Iran, which would deal a heavy blow to the agreement.\\nUnder the agreement with the United States, France, Germany, Britain, Russia and China, Iran strictly limited uranium enrichment capacity to try to show that it was not trying to develop atomic bombs. In exchange, Iran received relief from economic sanctions.\\nIranian President Hassan Rouhani hinted on Monday that Iran could remain in the nuclear accord even if the United States dropped out, but said that Tehran would fiercely resist U.S. pressure to limit its influence in the Middle East.\\nBritain, France and Germany remain committed to the accord and, in an effort to address U.S. complaints, want to open talks on Iran’s ballistic missile programme, its nuclear activities beyond 2025 - when pivotal provisions of the deal expire - and its role in the wars in Syria and Yemen.\\nBritish Foreign Secretary Boris Johnson, in Washington for talks this week, said the deal had weaknesses but these could be remedied.\\n“At this moment Britain is working alongside the Trump administration and our French and German allies to ensure that they are,” he said in a commentary in the New York Times. Reporting by Doina Chiacu; Editing by Alistair Bell')"
   ]
  },
  {
   "cell_type": "code",
   "execution_count": 4,
   "metadata": {},
   "outputs": [
    {
     "data": {
      "text/plain": [
       "UUID('8f2d4ce1-0126-5a40-969a-b83d9e9f410e')"
      ]
     },
     "execution_count": 4,
     "metadata": {},
     "output_type": "execute_result"
    }
   ],
   "source": [
    "_hash_string_to_uuid('\"All money you receive for volunteering or win on a trivia app or lottery is considered income by the IRS,\" said Mark Kantrowitz, a student loan expert.\\nHere are some of the ways to get other people to pay off your debt.\\n1) At your job Currently, just 4 percent of employers offer student debt assistance. But that\\'s changing as more employers come to realize education debt is a problem for many of their workers, said Katie Berliner, account executive at YouDecide, a benefits firm.')"
   ]
  },
  {
   "cell_type": "code",
   "execution_count": 5,
   "metadata": {},
   "outputs": [
    {
     "name": "stdout",
     "output_type": "stream",
     "text": [
      "Found multiple documents with the same content hash: This is the first document....\n",
      "Found multiple documents with the same content hash: This is the second document....\n",
      "All tests passed.\n"
     ]
    }
   ],
   "source": [
    "from collections import defaultdict\n",
    "\n",
    "class Document:\n",
    "    def __init__(self, content_hash, page_content):\n",
    "        self.content_hash = content_hash\n",
    "        self.page_content = page_content\n",
    "\n",
    "def filter_documents(documents):\n",
    "    hash_map = defaultdict(list)\n",
    "    for doc in documents:\n",
    "        hash_map[doc.content_hash].append(doc)\n",
    "    \n",
    "    result = []\n",
    "    for content_hash, docs in hash_map.items():\n",
    "        if len(docs) > 1:\n",
    "            print(f\"Found multiple documents with the same content hash: {docs[0].page_content[:30]}...\")\n",
    "        result.append(docs[0])\n",
    "    \n",
    "    return result\n",
    "\n",
    "# Tests\n",
    "def test_filter_documents():\n",
    "    docs = [\n",
    "        Document('hash1', 'This is the first document.'),\n",
    "        Document('hash2', 'This is the second document.'),\n",
    "        Document('hash1', 'This is a duplicate of the first document.'),\n",
    "        Document('hash3', 'This is the third document.'),\n",
    "        Document('hash2', 'This is another duplicate of the second document.'),\n",
    "    ]\n",
    "    \n",
    "    filtered_docs = filter_documents(docs)\n",
    "    \n",
    "    assert len(filtered_docs) == 3, f\"Expected 3 documents, got {len(filtered_docs)}\"\n",
    "    assert filtered_docs[0].content_hash == 'hash1'\n",
    "    assert filtered_docs[1].content_hash == 'hash2'\n",
    "    assert filtered_docs[2].content_hash == 'hash3'\n",
    "    print(\"All tests passed.\")\n",
    "\n",
    "# Run tests\n",
    "test_filter_documents()\n"
   ]
  },
  {
   "cell_type": "code",
   "execution_count": null,
   "metadata": {},
   "outputs": [],
   "source": []
  }
 ],
 "metadata": {
  "kernelspec": {
   "display_name": "ingestion-pipeline-llm",
   "language": "python",
   "name": "ingestion-pipeline-llm"
  },
  "language_info": {
   "codemirror_mode": {
    "name": "ipython",
    "version": 3
   },
   "file_extension": ".py",
   "mimetype": "text/x-python",
   "name": "python",
   "nbconvert_exporter": "python",
   "pygments_lexer": "ipython3",
   "version": "3.10.4"
  }
 },
 "nbformat": 4,
 "nbformat_minor": 2
}
