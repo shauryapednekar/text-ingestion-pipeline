{
 "cells": [
  {
   "cell_type": "code",
   "execution_count": 3,
   "metadata": {},
   "outputs": [],
   "source": [
    "flatten_leaves = lambda d: {k: v for sd in d.values() for k, v in (flatten_leaves(sd).items() if isinstance(sd, dict) else sd.items())}\n"
   ]
  },
  {
   "cell_type": "code",
   "execution_count": 5,
   "metadata": {},
   "outputs": [],
   "source": [
    "data = {\n",
    "    \"JSONLoader\": {\n",
    "        \"required\": {\n",
    "            \"jq_schema\": None,\n",
    "        },\n",
    "        \"optional\": {\n",
    "            \"content_key\": None,\n",
    "            \"is_content_key_jq_parsable\": False,\n",
    "            \"metadata_func\": None,\n",
    "            \"text_content\": True,\n",
    "            \"json_lines\": False,\n",
    "        }\n",
    "    }\n",
    "}\n",
    "kwargs = {**data['JSONLoader']['required'], **data['JSONLoader']['optional']}"
   ]
  },
  {
   "cell_type": "code",
   "execution_count": 6,
   "metadata": {},
   "outputs": [
    {
     "data": {
      "text/plain": [
       "{'jq_schema': None,\n",
       " 'content_key': None,\n",
       " 'is_content_key_jq_parsable': False,\n",
       " 'metadata_func': None,\n",
       " 'text_content': True,\n",
       " 'json_lines': False}"
      ]
     },
     "execution_count": 6,
     "metadata": {},
     "output_type": "execute_result"
    }
   ],
   "source": [
    "kwargs"
   ]
  },
  {
   "cell_type": "code",
   "execution_count": 1,
   "metadata": {},
   "outputs": [],
   "source": [
    "d = {\n",
    "    1: 12,\n",
    "    2: 23,\n",
    "    3: \"foo\"\n",
    "}"
   ]
  },
  {
   "cell_type": "code",
   "execution_count": 2,
   "metadata": {},
   "outputs": [
    {
     "name": "stdout",
     "output_type": "stream",
     "text": [
      "s: foo\n",
      "d: {1: 12, 2: 23}\n"
     ]
    }
   ],
   "source": [
    "s = d[3]\n",
    "\n",
    "del d[3]\n",
    "print(f\"s: {s}\")\n",
    "print(f\"d: {d}\")"
   ]
  },
  {
   "cell_type": "code",
   "execution_count": 1,
   "metadata": {},
   "outputs": [],
   "source": [
    "import chromadb"
   ]
  },
  {
   "cell_type": "code",
   "execution_count": 3,
   "metadata": {},
   "outputs": [],
   "source": [
    "chroma_client = chromadb.Client()"
   ]
  },
  {
   "cell_type": "code",
   "execution_count": 4,
   "metadata": {},
   "outputs": [],
   "source": [
    "collection = chroma_client.create_collection(name=\"my_collection\")"
   ]
  },
  {
   "cell_type": "code",
   "execution_count": 5,
   "metadata": {},
   "outputs": [
    {
     "name": "stderr",
     "output_type": "stream",
     "text": [
      "/Users/shauryapednekar/.cache/chroma/onnx_models/all-MiniLM-L6-v2/onnx.tar.gz: 100%|██████████| 79.3M/79.3M [00:17<00:00, 4.63MiB/s]\n"
     ]
    }
   ],
   "source": [
    "collection.add(\n",
    "    documents=[\n",
    "        \"This is a document about pineapple\",\n",
    "        \"This is a document about oranges\"\n",
    "    ],\n",
    "    ids=[\"id1\", \"id2\"]\n",
    ")\n"
   ]
  },
  {
   "cell_type": "code",
   "execution_count": 6,
   "metadata": {},
   "outputs": [
    {
     "name": "stdout",
     "output_type": "stream",
     "text": [
      "{'ids': [['id1', 'id2']], 'distances': [[1.0403728485107422, 1.2430635690689087]], 'metadatas': [[None, None]], 'embeddings': None, 'documents': [['This is a document about pineapple', 'This is a document about oranges']], 'uris': None, 'data': None}\n"
     ]
    }
   ],
   "source": [
    "results = collection.query(\n",
    "    query_texts=[\"This is a query document about hawaii\"], # Chroma will embed this for you\n",
    "    n_results=2 # how many results to return\n",
    ")\n",
    "print(results)\n"
   ]
  },
  {
   "cell_type": "code",
   "execution_count": 4,
   "metadata": {},
   "outputs": [],
   "source": [
    "from langchain_community.vectorstores import FAISS, Chroma\n",
    "from langchain_huggingface import HuggingFaceEmbeddings\n"
   ]
  },
  {
   "cell_type": "code",
   "execution_count": 8,
   "metadata": {},
   "outputs": [
    {
     "name": "stderr",
     "output_type": "stream",
     "text": [
      "/home/shaurya/foo/src/ingestion-pipeline/venv/lib/python3.10/site-packages/huggingface_hub/file_download.py:1132: FutureWarning: `resume_download` is deprecated and will be removed in version 1.0.0. Downloads always resume when possible. If you want to force a new download, use `force_download=True`.\n",
      "  warnings.warn(\n"
     ]
    },
    {
     "ename": "NameError",
     "evalue": "name 'query' is not defined",
     "output_type": "error",
     "traceback": [
      "\u001b[0;31m---------------------------------------------------------------------------\u001b[0m",
      "\u001b[0;31mNameError\u001b[0m                                 Traceback (most recent call last)",
      "Cell \u001b[0;32mIn[8], line 8\u001b[0m\n\u001b[1;32m      1\u001b[0m embeddings \u001b[38;5;241m=\u001b[39m HuggingFaceEmbeddings(\u001b[38;5;241m*\u001b[39m\u001b[38;5;241m*\u001b[39m{\n\u001b[1;32m      2\u001b[0m         \u001b[38;5;124m\"\u001b[39m\u001b[38;5;124mmodel_name\u001b[39m\u001b[38;5;124m\"\u001b[39m: \u001b[38;5;124m\"\u001b[39m\u001b[38;5;124msentence-transformers/all-mpnet-base-v2\u001b[39m\u001b[38;5;124m\"\u001b[39m,\n\u001b[1;32m      3\u001b[0m         \u001b[38;5;124m\"\u001b[39m\u001b[38;5;124mmodel_kwargs\u001b[39m\u001b[38;5;124m\"\u001b[39m: {\u001b[38;5;124m\"\u001b[39m\u001b[38;5;124mdevice\u001b[39m\u001b[38;5;124m\"\u001b[39m: \u001b[38;5;124m\"\u001b[39m\u001b[38;5;124mcuda\u001b[39m\u001b[38;5;124m\"\u001b[39m},\n\u001b[1;32m      4\u001b[0m         \u001b[38;5;124m\"\u001b[39m\u001b[38;5;124mencode_kwargs\u001b[39m\u001b[38;5;124m\"\u001b[39m: {\u001b[38;5;124m\"\u001b[39m\u001b[38;5;124mnormalize_embeddings\u001b[39m\u001b[38;5;124m\"\u001b[39m: \u001b[38;5;28;01mFalse\u001b[39;00m},\n\u001b[1;32m      5\u001b[0m     })\n\u001b[1;32m      6\u001b[0m new_db \u001b[38;5;241m=\u001b[39m FAISS\u001b[38;5;241m.\u001b[39mload_local(\u001b[38;5;124m\"\u001b[39m\u001b[38;5;124mfaiss_index\u001b[39m\u001b[38;5;124m\"\u001b[39m, embeddings,allow_dangerous_deserialization\u001b[38;5;241m=\u001b[39m\u001b[38;5;28;01mTrue\u001b[39;00m)\n\u001b[0;32m----> 8\u001b[0m docs \u001b[38;5;241m=\u001b[39m new_db\u001b[38;5;241m.\u001b[39msimilarity_search(\u001b[43mquery\u001b[49m)\n",
      "\u001b[0;31mNameError\u001b[0m: name 'query' is not defined"
     ]
    }
   ],
   "source": [
    "embeddings = HuggingFaceEmbeddings(**{\n",
    "        \"model_name\": \"sentence-transformers/all-mpnet-base-v2\",\n",
    "        \"model_kwargs\": {\"device\": \"cuda\"},\n",
    "        \"encode_kwargs\": {\"normalize_embeddings\": False},\n",
    "    })\n",
    "new_db = FAISS.load_local(\"faiss_index\", embeddings,allow_dangerous_deserialization=True)"
   ]
  },
  {
   "cell_type": "code",
   "execution_count": 11,
   "metadata": {},
   "outputs": [],
   "source": [
    "docs = new_db.similarity_search(\"Relationship between trump and farmers?\")"
   ]
  },
  {
   "cell_type": "code",
   "execution_count": 12,
   "metadata": {},
   "outputs": [
    {
     "data": {
      "text/plain": [
       "[Document(page_content='Blakey began his career at Wells Fargo in Commercial Real Estate including a five-year assignment in Chicago managing the Midwest region. After significantly growing Wells Fargo’s Midwest Commercial Real Estate business, Blakey established and grew the company’s Commercial Mortgage businesses, including Commercial Mortgage-Backed Securities, Multifamily Capital, Commercial Mortgage Servicing, and Community Lending & Investment. Under his leadership, each business grew to become industry-leading', metadata={'published': '2018-05-17T17:00:00.000+03:00', 'url': 'http://www.cnbc.com/2018/05/17/business-wire-ed-blakey-to-retire-after-34-years-with-wells-fargo.html', 'title': 'Ed Blakey to Retire After 34 Years with Wells Fargo', 'language': 'english', 'source': '../unzipped/financial_dataset/2018_05_112b52537b67659ad3609a234388c50a/news_0037053.json'}),\n",
       " Document(page_content='Marks, since joining the company in 1987, has held various senior leadership roles in commercial and corporate banking, trade finance and credit risk management. Prior to leading Capital Finance to be the #1 Bookrunner of asset-based loans in the U.S. in 2017, he was the group risk officer for Wells Fargo’s Consumer Lending and Payments, Virtual Solutions and Innovation businesses. Marks also serves on the Wells Fargo Management Committee.\\nAbout Wells Fargo', metadata={'published': '2018-05-17T17:00:00.000+03:00', 'url': 'http://www.cnbc.com/2018/05/17/business-wire-ed-blakey-to-retire-after-34-years-with-wells-fargo.html', 'title': 'Ed Blakey to Retire After 34 Years with Wells Fargo', 'language': 'english', 'source': '../unzipped/financial_dataset/2018_05_112b52537b67659ad3609a234388c50a/news_0037053.json'}),\n",
       " Document(page_content='Wells Fargo also announced that David Marks, who has been with the company for 31 years and is currently head of Wells Fargo Capital Finance , will succeed Blakey as head of Commercial Capital starting June 30, 2018. In addition, ABF, which dual-reported into Commercial Capital and the Wells Fargo Securities business, will continue to be led by Chris Pink, and going forward, will solely report into the Wells Fargo Securities business under Mary Katherine DuBose, managing director and head of', metadata={'published': '2018-05-17T17:00:00.000+03:00', 'url': 'http://www.cnbc.com/2018/05/17/business-wire-ed-blakey-to-retire-after-34-years-with-wells-fargo.html', 'title': 'Ed Blakey to Retire After 34 Years with Wells Fargo', 'language': 'english', 'source': '../unzipped/financial_dataset/2018_05_112b52537b67659ad3609a234388c50a/news_0037053.json'}),\n",
       " Document(page_content='DuBose joined Wells Fargo in 1998 and has more than 20 years of investment banking experience. She started her Wells Fargo career by forming the Business & Commercial Loan Securitization team. From there led Corporate Debt Finance, Subscription Finance and Corporate Net Lease groups. DuBose then went on to co-head Asset-Backed Finance & Securitization. In her current role, she leads teams responsible for high-grade debt, high-yield debt and loans syndications originations and executions.', metadata={'published': '2018-05-17T17:00:00.000+03:00', 'url': 'http://www.cnbc.com/2018/05/17/business-wire-ed-blakey-to-retire-after-34-years-with-wells-fargo.html', 'title': 'Ed Blakey to Retire After 34 Years with Wells Fargo', 'language': 'english', 'source': '../unzipped/financial_dataset/2018_05_112b52537b67659ad3609a234388c50a/news_0037053.json'})]"
      ]
     },
     "execution_count": 12,
     "metadata": {},
     "output_type": "execute_result"
    }
   ],
   "source": [
    "docs"
   ]
  },
  {
   "cell_type": "code",
   "execution_count": null,
   "metadata": {},
   "outputs": [],
   "source": []
  }
 ],
 "metadata": {
  "kernelspec": {
   "display_name": "ingestion-pipeline-llm",
   "language": "python",
   "name": "ingestion-pipeline-llm"
  },
  "language_info": {
   "codemirror_mode": {
    "name": "ipython",
    "version": 3
   },
   "file_extension": ".py",
   "mimetype": "text/x-python",
   "name": "python",
   "nbconvert_exporter": "python",
   "pygments_lexer": "ipython3",
   "version": "3.10.4"
  }
 },
 "nbformat": 4,
 "nbformat_minor": 2
}
