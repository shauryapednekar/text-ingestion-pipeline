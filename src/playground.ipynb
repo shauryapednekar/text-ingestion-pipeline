{
 "cells": [
  {
   "cell_type": "code",
   "execution_count": 3,
   "metadata": {},
   "outputs": [],
   "source": [
    "flatten_leaves = lambda d: {k: v for sd in d.values() for k, v in (flatten_leaves(sd).items() if isinstance(sd, dict) else sd.items())}\n"
   ]
  },
  {
   "cell_type": "code",
   "execution_count": 5,
   "metadata": {},
   "outputs": [],
   "source": [
    "data = {\n",
    "    \"JSONLoader\": {\n",
    "        \"required\": {\n",
    "            \"jq_schema\": None,\n",
    "        },\n",
    "        \"optional\": {\n",
    "            \"content_key\": None,\n",
    "            \"is_content_key_jq_parsable\": False,\n",
    "            \"metadata_func\": None,\n",
    "            \"text_content\": True,\n",
    "            \"json_lines\": False,\n",
    "        }\n",
    "    }\n",
    "}\n",
    "kwargs = {**data['JSONLoader']['required'], **data['JSONLoader']['optional']}"
   ]
  },
  {
   "cell_type": "code",
   "execution_count": 6,
   "metadata": {},
   "outputs": [
    {
     "data": {
      "text/plain": [
       "{'jq_schema': None,\n",
       " 'content_key': None,\n",
       " 'is_content_key_jq_parsable': False,\n",
       " 'metadata_func': None,\n",
       " 'text_content': True,\n",
       " 'json_lines': False}"
      ]
     },
     "execution_count": 6,
     "metadata": {},
     "output_type": "execute_result"
    }
   ],
   "source": [
    "kwargs"
   ]
  },
  {
   "cell_type": "code",
   "execution_count": null,
   "metadata": {},
   "outputs": [],
   "source": []
  }
 ],
 "metadata": {
  "kernelspec": {
   "display_name": "ingestion-pipeline-llm",
   "language": "python",
   "name": "ingestion-pipeline-llm"
  },
  "language_info": {
   "codemirror_mode": {
    "name": "ipython",
    "version": 3
   },
   "file_extension": ".py",
   "mimetype": "text/x-python",
   "name": "python",
   "nbconvert_exporter": "python",
   "pygments_lexer": "ipython3",
   "version": "3.10.4"
  }
 },
 "nbformat": 4,
 "nbformat_minor": 2
}
