{
 "cells": [
  {
   "cell_type": "code",
   "execution_count": 3,
   "metadata": {},
   "outputs": [],
   "source": [
    "flatten_leaves = lambda d: {k: v for sd in d.values() for k, v in (flatten_leaves(sd).items() if isinstance(sd, dict) else sd.items())}\n"
   ]
  },
  {
   "cell_type": "code",
   "execution_count": 5,
   "metadata": {},
   "outputs": [],
   "source": [
    "data = {\n",
    "    \"JSONLoader\": {\n",
    "        \"required\": {\n",
    "            \"jq_schema\": None,\n",
    "        },\n",
    "        \"optional\": {\n",
    "            \"content_key\": None,\n",
    "            \"is_content_key_jq_parsable\": False,\n",
    "            \"metadata_func\": None,\n",
    "            \"text_content\": True,\n",
    "            \"json_lines\": False,\n",
    "        }\n",
    "    }\n",
    "}\n",
    "kwargs = {**data['JSONLoader']['required'], **data['JSONLoader']['optional']}"
   ]
  },
  {
   "cell_type": "code",
   "execution_count": 6,
   "metadata": {},
   "outputs": [
    {
     "data": {
      "text/plain": [
       "{'jq_schema': None,\n",
       " 'content_key': None,\n",
       " 'is_content_key_jq_parsable': False,\n",
       " 'metadata_func': None,\n",
       " 'text_content': True,\n",
       " 'json_lines': False}"
      ]
     },
     "execution_count": 6,
     "metadata": {},
     "output_type": "execute_result"
    }
   ],
   "source": [
    "kwargs"
   ]
  },
  {
   "cell_type": "code",
   "execution_count": 1,
   "metadata": {},
   "outputs": [],
   "source": [
    "d = {\n",
    "    1: 12,\n",
    "    2: 23,\n",
    "    3: \"foo\"\n",
    "}"
   ]
  },
  {
   "cell_type": "code",
   "execution_count": 2,
   "metadata": {},
   "outputs": [
    {
     "name": "stdout",
     "output_type": "stream",
     "text": [
      "s: foo\n",
      "d: {1: 12, 2: 23}\n"
     ]
    }
   ],
   "source": [
    "s = d[3]\n",
    "\n",
    "del d[3]\n",
    "print(f\"s: {s}\")\n",
    "print(f\"d: {d}\")"
   ]
  },
  {
   "cell_type": "code",
   "execution_count": 1,
   "metadata": {},
   "outputs": [],
   "source": [
    "import chromadb"
   ]
  },
  {
   "cell_type": "code",
   "execution_count": 3,
   "metadata": {},
   "outputs": [],
   "source": [
    "chroma_client = chromadb.Client()"
   ]
  },
  {
   "cell_type": "code",
   "execution_count": 4,
   "metadata": {},
   "outputs": [],
   "source": [
    "collection = chroma_client.create_collection(name=\"my_collection\")"
   ]
  },
  {
   "cell_type": "code",
   "execution_count": 5,
   "metadata": {},
   "outputs": [
    {
     "name": "stderr",
     "output_type": "stream",
     "text": [
      "/Users/shauryapednekar/.cache/chroma/onnx_models/all-MiniLM-L6-v2/onnx.tar.gz: 100%|██████████| 79.3M/79.3M [00:17<00:00, 4.63MiB/s]\n"
     ]
    }
   ],
   "source": [
    "collection.add(\n",
    "    documents=[\n",
    "        \"This is a document about pineapple\",\n",
    "        \"This is a document about oranges\"\n",
    "    ],\n",
    "    ids=[\"id1\", \"id2\"]\n",
    ")\n"
   ]
  },
  {
   "cell_type": "code",
   "execution_count": 6,
   "metadata": {},
   "outputs": [
    {
     "name": "stdout",
     "output_type": "stream",
     "text": [
      "{'ids': [['id1', 'id2']], 'distances': [[1.0403728485107422, 1.2430635690689087]], 'metadatas': [[None, None]], 'embeddings': None, 'documents': [['This is a document about pineapple', 'This is a document about oranges']], 'uris': None, 'data': None}\n"
     ]
    }
   ],
   "source": [
    "results = collection.query(\n",
    "    query_texts=[\"This is a query document about hawaii\"], # Chroma will embed this for you\n",
    "    n_results=2 # how many results to return\n",
    ")\n",
    "print(results)\n"
   ]
  },
  {
   "cell_type": "code",
   "execution_count": 4,
   "metadata": {},
   "outputs": [],
   "source": [
    "from langchain_community.vectorstores import FAISS, Chroma\n",
    "from langchain_huggingface import HuggingFaceEmbeddings\n"
   ]
  },
  {
   "cell_type": "code",
   "execution_count": 13,
   "metadata": {},
   "outputs": [
    {
     "name": "stderr",
     "output_type": "stream",
     "text": [
      "/home/shaurya/foo/src/ingestion-pipeline/venv/lib/python3.10/site-packages/huggingface_hub/file_download.py:1132: FutureWarning: `resume_download` is deprecated and will be removed in version 1.0.0. Downloads always resume when possible. If you want to force a new download, use `force_download=True`.\n",
      "  warnings.warn(\n"
     ]
    }
   ],
   "source": [
    "embeddings = HuggingFaceEmbeddings(**{\n",
    "        \"model_name\": \"sentence-transformers/all-mpnet-base-v2\",\n",
    "        \"model_kwargs\": {\"device\": \"cuda\"},\n",
    "        \"encode_kwargs\": {\"normalize_embeddings\": False},\n",
    "    })\n",
    "new_db = FAISS.load_local(\"faiss_index\", embeddings,allow_dangerous_deserialization=True)"
   ]
  },
  {
   "cell_type": "code",
   "execution_count": 14,
   "metadata": {},
   "outputs": [],
   "source": [
    "docs = new_db.similarity_search(\"Relationship between trump and farmers?\")"
   ]
  },
  {
   "cell_type": "code",
   "execution_count": 15,
   "metadata": {},
   "outputs": [
    {
     "data": {
      "text/plain": [
       "[Document(page_content=\"LIESMAN: UNDERSTOOD --\\nMNUCHIN: AND WE ALSO ANNOUNCED YESTERDAY AS IT RELATES TO AGRICULTURE, WE'RE GOING TO PROTECT OUR FARMERS. THE PRESIDENT INSTRUCTED SECRETARY PERDUE TO WORK WITHTHE REST OF THE CABINET TO PROTECT OUR FARMERS FROM UNFAIR TARGETING.\\nLIESMAN: ONE OTHER QUESTION OF ABIDING CONCERN TO THE MARKET HOW POLICY IS FORMED IN THE ADMINISTRATION, CAN YOU TELL US -- DID YOU KNOW ABOUT THE PRESIDENTS THREAT OF $100 BILLION OF TARIFFS BEFORE HE ANNOUNCED IT?\", metadata={'language': 'english', 'url': 'http://www.cnbc.com/2018/04/06/cnbc-exclusive-cnbc-transcript-u-s-treasury-secretary-steven-mnuchin-on-cnbcs-power-lunch-today.html', 'published': '2018-04-06T23:25:00.000+03:00', 'title': 'CNBC Exclusive: CNBC Transcript: U.S. Treasury Secretary Steven Mnuchin on CNBC’s “Power Lunch” Today', 'source': '../unzipped/financial_dataset/2018_04_112b52537b67659ad3609a234388c50a/news_0013370.json'}),\n",
       " Document(page_content=\"DAILY INVOLVED IN THESE CONVERSATIONS WITH THE ECONOMIC TEAM AND ON THE ONE HAND HE'S ABSOLUTELY WILLING TO DEFEND OUR INTERESTS. SO LET ME BE CLEAR, THIS IS ABOUT FREE AND FAIR TRADE CHINAS BEEN ABLE TO DO TRADE FREELY IN OUR COUNTRY. OUR COMPANIES HAVE BEEN LIMITED. THERE HAS BEEN FORCED TECHNOLOGY AND FORCED JOINT VENTURES AND OUR OBJECTIVE THE GOOD NEWS IS PRESIDENT XI AND PRESIDENT TRUMP HAVE A VERY GOOD RELATIONSHIP. THEY SPEAK REGULARLY. THERE IS CLEAR UNDERSTANDING. WE HAVE MUTUAL\", metadata={'language': 'english', 'url': 'http://www.cnbc.com/2018/04/06/cnbc-exclusive-cnbc-transcript-u-s-treasury-secretary-steven-mnuchin-on-cnbcs-power-lunch-today.html', 'published': '2018-04-06T23:25:00.000+03:00', 'title': 'CNBC Exclusive: CNBC Transcript: U.S. Treasury Secretary Steven Mnuchin on CNBC’s “Power Lunch” Today', 'source': '../unzipped/financial_dataset/2018_04_112b52537b67659ad3609a234388c50a/news_0013370.json'}),\n",
       " Document(page_content='MNUCHIN: ABSOLUTELY NOT. OKAY. THE PRESIDENT IS FOCUSED ON AMAZON AND THE ECONOMIC ISSUES THAT ARE IMPACTING RETAILERS ALL AROUND THE COUNTRY. I THINK AS YOU KNOW –\\nEISEN: BUT HE IS GOING AFTER ONE SPECIFIC COMPANY. WHAT MESSAGE DOES THAT SEND TO AMERICAN COMPANIES AND AMERICAN INDUSTRIES THAT HE SAYS HE IS FIGHTING TO PROTECT?', metadata={'language': 'english', 'url': 'http://www.cnbc.com/2018/04/06/cnbc-exclusive-cnbc-transcript-u-s-treasury-secretary-steven-mnuchin-on-cnbcs-power-lunch-today.html', 'published': '2018-04-06T23:25:00.000+03:00', 'title': 'CNBC Exclusive: CNBC Transcript: U.S. Treasury Secretary Steven Mnuchin on CNBC’s “Power Lunch” Today', 'source': '../unzipped/financial_dataset/2018_04_112b52537b67659ad3609a234388c50a/news_0013370.json'}),\n",
       " Document(page_content=\"MNUCHIN: WELL, AGAIN, PRESIDENT TRUMP, I THINK PROBABLY HAS BEST RELATIONSHIP WITH PRESIDENT XI OF ANY PRESIDENT. I THINK THEY'RE IN CONSTANT DIALOGUE. I THINK THAT AT ALL LEVELS OF THE GOVERNMENT WE'VE HAD VERY GOOD DIALOGUE. I THINK WE'VE MADE A LOT OF PROGRESS OVER THE LAST YEAR. AND – BUT THE PRESIDENT IS DETERMINED. AND WE'VE BEEN VERY CLEAR FROM DAY ONE, THERE'IS NO SURPRISES HERE, THERE IS NO ISSUE IN TERMS OF WHAT WE'RE TRYING TO DO. WE'RE TRYING TO CREATE A LEVEL PLAYING FIELD. AND AS\", metadata={'language': 'english', 'url': 'http://www.cnbc.com/2018/04/06/cnbc-exclusive-cnbc-transcript-u-s-treasury-secretary-steven-mnuchin-on-cnbcs-power-lunch-today.html', 'published': '2018-04-06T23:25:00.000+03:00', 'title': 'CNBC Exclusive: CNBC Transcript: U.S. Treasury Secretary Steven Mnuchin on CNBC’s “Power Lunch” Today', 'source': '../unzipped/financial_dataset/2018_04_112b52537b67659ad3609a234388c50a/news_0013370.json'})]"
      ]
     },
     "execution_count": 15,
     "metadata": {},
     "output_type": "execute_result"
    }
   ],
   "source": [
    "docs"
   ]
  },
  {
   "cell_type": "code",
   "execution_count": null,
   "metadata": {},
   "outputs": [],
   "source": []
  }
 ],
 "metadata": {
  "kernelspec": {
   "display_name": "ingestion-pipeline-llm",
   "language": "python",
   "name": "ingestion-pipeline-llm"
  },
  "language_info": {
   "codemirror_mode": {
    "name": "ipython",
    "version": 3
   },
   "file_extension": ".py",
   "mimetype": "text/x-python",
   "name": "python",
   "nbconvert_exporter": "python",
   "pygments_lexer": "ipython3",
   "version": "3.10.4"
  }
 },
 "nbformat": 4,
 "nbformat_minor": 2
}
